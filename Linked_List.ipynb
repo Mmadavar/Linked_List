{
  "nbformat": 4,
  "nbformat_minor": 0,
  "metadata": {
    "colab": {
      "provenance": []
    },
    "kernelspec": {
      "name": "python3",
      "display_name": "Python 3"
    },
    "language_info": {
      "name": "python"
    }
  },
  "cells": [
    {
      "cell_type": "code",
      "execution_count": 7,
      "metadata": {
        "id": "t0kp9AtR86ij"
      },
      "outputs": [],
      "source": [
        "#Singly linked list\n",
        "\n",
        "class Node:\n",
        "\n",
        "  def __init__(self, val, next=None):\n",
        "    self.val = val\n",
        "    self.next = next\n",
        "\n",
        "  def __str__(self):\n",
        "    return str(self.val)\n"
      ]
    },
    {
      "cell_type": "code",
      "source": [
        "Head = Node(1)\n",
        "A = Node(2)\n",
        "B = Node(3)\n",
        "C = Node(4)\n",
        "\n",
        "Head.next = A\n",
        "A.next = B\n",
        "B.next = C\n",
        "\n",
        "print(Head)"
      ],
      "metadata": {
        "colab": {
          "base_uri": "https://localhost:8080/"
        },
        "id": "cIENwIQt9NaI",
        "outputId": "691d3012-40b9-413e-b2ae-f7ef8dbe3672"
      },
      "execution_count": 8,
      "outputs": [
        {
          "output_type": "stream",
          "name": "stdout",
          "text": [
            "1\n"
          ]
        }
      ]
    },
    {
      "cell_type": "code",
      "source": [
        "while Head:\n",
        "  print(Head)\n",
        "  Head = Head.next"
      ],
      "metadata": {
        "colab": {
          "base_uri": "https://localhost:8080/"
        },
        "id": "mbxAVzhZ9g-v",
        "outputId": "7d0e05bc-f0de-484c-ca44-0db8ef1a3821"
      },
      "execution_count": 9,
      "outputs": [
        {
          "output_type": "stream",
          "name": "stdout",
          "text": [
            "1\n",
            "2\n",
            "3\n",
            "4\n"
          ]
        }
      ]
    },
    {
      "cell_type": "code",
      "source": [
        "# Display linked list - O(n)\n",
        "def display(head):\n",
        "  curr = head\n",
        "  elements = []\n",
        "  while curr:\n",
        "    elements.append(curr.val)\n",
        "    curr = curr.next\n",
        "  print(' -> '.join(elements))\n",
        "\n",
        "\n",
        "display(Head)"
      ],
      "metadata": {
        "id": "DwJRw9F1-ZSV"
      },
      "execution_count": null,
      "outputs": []
    },
    {
      "cell_type": "code",
      "source": [
        "#Search for node value\n",
        "\n",
        "def search(head, val):\n",
        "  curr = head\n",
        "  while curr:\n",
        "    if curr.val == val:\n",
        "      return True\n",
        "    curr = curr.next\n",
        "  return False\n",
        "\n",
        "search(Head, 2)\n",
        ""
      ],
      "metadata": {
        "id": "3Pq_2VnZ-5pJ"
      },
      "execution_count": null,
      "outputs": []
    },
    {
      "cell_type": "code",
      "source": [
        "#Doubly Linked Lists\n",
        "\n",
        "class DoublyNode:\n",
        "  def __init__(self, val, next=None, prev=None):\n",
        "    self.val = val\n",
        "    self.next = next\n",
        "    self.prev = prev\n",
        "\n",
        "  def __str__(self):\n",
        "    return str(self.val)"
      ],
      "metadata": {
        "id": "derAtBQk_vw7"
      },
      "execution_count": 10,
      "outputs": []
    },
    {
      "cell_type": "code",
      "source": [
        "head = tail = DoublyNode(1)\n",
        "print(head)\n",
        "print(tail)"
      ],
      "metadata": {
        "id": "zHan73iBAuu9"
      },
      "execution_count": null,
      "outputs": []
    },
    {
      "cell_type": "code",
      "source": [
        "# Display - O(n)\n",
        "def display(head):\n",
        "  curr = head\n",
        "  elements = []\n",
        "  while curr:\n",
        "    elements.append(str(curr.val))\n",
        "    curr = curr.next\n",
        "\n",
        "  print(' <-> '.join(elements))\n",
        "  display(head)\n"
      ],
      "metadata": {
        "id": "6wXZ-H6TA5qM"
      },
      "execution_count": null,
      "outputs": []
    },
    {
      "cell_type": "code",
      "source": [
        "#Insert at the beginning - O(1)\n",
        "\n",
        "def insert_at_beginning(head, tail, val):\n",
        "  new_node = DoublyNode(val, next=head)\n",
        "  head.prev = new_node\n",
        "  return new_node, tail\n",
        "\n",
        "head, tail = insert_at_beginning(head, tail, 3)\n",
        "display(head)"
      ],
      "metadata": {
        "id": "6n_C8ubaBWOk"
      },
      "execution_count": null,
      "outputs": []
    },
    {
      "cell_type": "code",
      "source": [
        "def insert_at_end(head, tail, val):\n",
        "  new_node = DoublyNode(val, prev=tail)\n",
        "  tail.next = new_node\n",
        "  return head, new_node\n",
        "\n",
        "head, tail = insert_at_end(head, tail, 9)\n",
        "display(head)"
      ],
      "metadata": {
        "id": "mE6RuDpWCFeC"
      },
      "execution_count": null,
      "outputs": []
    }
  ]
}